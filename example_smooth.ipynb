{
 "cells": [
  {
   "cell_type": "markdown",
   "metadata": {},
   "source": [
    "# Example usage of a (skeleton for a) diffable HEP library"
   ]
  },
  {
   "cell_type": "markdown",
   "metadata": {},
   "source": [
    "install dependencies:"
   ]
  },
  {
   "cell_type": "code",
   "execution_count": null,
   "metadata": {},
   "outputs": [],
   "source": [
    "!python -m pip install jax jaxlib numpy matplotlib"
   ]
  },
  {
   "cell_type": "markdown",
   "metadata": {},
   "source": [
    "also install my experimental pyhf fork :)\n"
   ]
  },
  {
   "cell_type": "code",
   "execution_count": null,
   "metadata": {},
   "outputs": [],
   "source": [
    "!python -m pip install git+https://github.com/phinate/pyhf.git@diffable_json"
   ]
  },
  {
   "cell_type": "code",
   "execution_count": 1,
   "metadata": {},
   "outputs": [],
   "source": [
    "import jax\n",
    "import jax.numpy as jnp\n",
    "\n",
    "import numpy as np\n",
    "\n",
    "import pyhf\n",
    "# use jax backend of pyhf\n",
    "pyhf.set_backend(pyhf.tensor.jax_backend())\n",
    "\n",
    "import smooth\n",
    "import smooth.infer"
   ]
  },
  {
   "cell_type": "markdown",
   "metadata": {},
   "source": [
    "## Implementing Alex's differentiable cut example, using full pyhf:"
   ]
  },
  {
   "cell_type": "code",
   "execution_count": 2,
   "metadata": {},
   "outputs": [],
   "source": [
    "nBg  = 8000\n",
    "nSig = 300\n",
    "\n",
    "background = np.random.normal(40, 10, nBg)\n",
    "signal = np.random.normal(50, 5, nSig)\n",
    "\n",
    "def generate_data():\n",
    "    return signal, background"
   ]
  },
  {
   "cell_type": "code",
   "execution_count": 4,
   "metadata": {
    "jupyter": {
     "source_hidden": true
    }
   },
   "outputs": [
    {
     "data": {
      "image/png": "[encoded data removed]",
      "text/plain": [
       "<Figure size 720x480 with 1 Axes>"
      ]
     },
     "metadata": {
      "needs_background": "light"
     },
     "output_type": "display_data"
    }
   ],
   "source": [
    "import matplotlib.pyplot as plt\n",
    "\n",
    "bins = np.linspace(0, 80, 40)\n",
    "plt.figure(dpi=120)\n",
    "ax = plt.gca()\n",
    "plt.hist([background, signal], bins=bins, stacked=True, label=[\"background\", \"signal\"])\n",
    "ax.set(ylabel='frequency',xlabel='x')\n",
    "plt.legend();"
   ]
  },
  {
   "cell_type": "code",
   "execution_count": 3,
   "metadata": {},
   "outputs": [],
   "source": [
    "def preprocess(data_generator):\n",
    "    \n",
    "    def counts(cut_param):\n",
    "        s, b = data_generator()\n",
    "        \n",
    "        s_counts = smooth.cut(s,'>',cut_param).sum()\n",
    "        b_counts = smooth.cut(b,'>',cut_param).sum()\n",
    "        \n",
    "        return jnp.array([s_counts]), jnp.array([b_counts])\n",
    "    \n",
    "    return counts"
   ]
  },
  {
   "cell_type": "code",
   "execution_count": 4,
   "metadata": {},
   "outputs": [],
   "source": [
    "def simple_histosys(data_with_cuts, uncert):\n",
    "    \"\"\"\n",
    "    Makes a histosys model with up/down yields of +- bkg*(uncert/2).\n",
    "    \"\"\"\n",
    "\n",
    "    def from_spec(yields):\n",
    "\n",
    "        s, b = yields\n",
    "        bup, bdown = b * (1 + (uncert / 2)), b * (1 - (uncert / 2))\n",
    "\n",
    "        spec = {\n",
    "            \"channels\": [\n",
    "                {\n",
    "                    \"name\": \"smoothcut\",\n",
    "                    \"samples\": [\n",
    "                        {\n",
    "                            \"name\": \"signal\",\n",
    "                            \"data\": s,\n",
    "                            \"modifiers\": [\n",
    "                                {\"name\": \"mu\", \"type\": \"normfactor\", \"data\": None}\n",
    "                            ],\n",
    "                        },\n",
    "                        {\n",
    "                            \"name\": \"bkg\",\n",
    "                            \"data\": b,\n",
    "                            \"modifiers\": [\n",
    "                                {\n",
    "                                    \"name\": \"artificial_histosys\",\n",
    "                                    \"type\": \"histosys\",\n",
    "                                    \"data\": {\"lo_data\": bdown, \"hi_data\": bup,},\n",
    "                                }\n",
    "                            ],\n",
    "                        },\n",
    "                    ],\n",
    "                },\n",
    "            ],\n",
    "        }\n",
    "\n",
    "        return pyhf.Model(spec)\n",
    "\n",
    "    def model_maker(cut_pars):\n",
    "        s, b = data_with_cuts(cut_pars)\n",
    "\n",
    "        # make statistical model with pyhf\n",
    "        m = from_spec([s, b])\n",
    "\n",
    "        nompars = m.config.suggested_init()\n",
    "        bonlypars = jnp.asarray([x for x in nompars])\n",
    "        bonlypars = jax.ops.index_update(bonlypars, m.config.poi_index, 0.0)\n",
    "        return m, bonlypars\n",
    "\n",
    "    return model_maker"
   ]
  },
  {
   "cell_type": "code",
   "execution_count": 13,
   "metadata": {},
   "outputs": [
    {
     "data": {
      "text/plain": [
       "(DeviceArray(0.00718723, dtype=float64),\n",
       " DeviceArray(-0.04872459, dtype=float64))"
      ]
     },
     "execution_count": 13,
     "metadata": {},
     "output_type": "execute_result"
    }
   ],
   "source": [
    "data_with_cuts = preprocess(generate_data)\n",
    "model_maker    = simple_histosys(data_with_cuts, uncert=0.05)\n",
    "loss           = smooth.infer.expected_pvalue_upper_limit(model_maker,\n",
    "                                                          solver_kwargs=dict(pdf_transform=True))\n",
    "\n",
    "jax.value_and_grad(loss)(1.,40.)"
   ]
  },
  {
   "cell_type": "markdown",
   "metadata": {},
   "source": [
    "### (Can then do gradient descent etc! I've left that out here.)"
   ]
  },
  {
   "cell_type": "markdown",
   "metadata": {},
   "source": [
    "## Reimplementing neos:"
   ]
  },
  {
   "cell_type": "code",
   "execution_count": 7,
   "metadata": {},
   "outputs": [],
   "source": [
    "def blobs(NMC=500, sig_mean = [-1, 1], b1_mean=[2.5, 2], b_mean=[1, -1], b2_mean=[-2.5, -1.5]):\n",
    "    \n",
    "    def generate_blobs():\n",
    "        bkg_up = np.random.multivariate_normal(b1_mean, [[1, 0], [0, 1]], size=(NMC,))\n",
    "        bkg_down = np.random.multivariate_normal(b2_mean, [[1, 0], [0, 1]], size=(NMC,))\n",
    "        bkg_nom = np.random.multivariate_normal(b_mean, [[1, 0], [0, 1]], size=(NMC,))\n",
    "        sig = np.random.multivariate_normal(sig_mean, [[1, 0], [0, 1]], size=(NMC,))\n",
    "        \n",
    "        return sig, bkg_nom, bkg_up, bkg_down\n",
    "    \n",
    "    return generate_blobs"
   ]
  },
  {
   "cell_type": "code",
   "execution_count": 8,
   "metadata": {},
   "outputs": [],
   "source": [
    "def hists(data_generator, predict, bins, bandwidth, LUMI=10, sig_scale = 2, bkg_scale = 10):\n",
    "    \n",
    "    def hist_maker(nn):\n",
    "        s, b_nom, b_up, b_down = data_generator()\n",
    "        NMC = len(s)\n",
    "        \n",
    "        nn_s, nn_b_nom, nn_b_up, nn_b_down = (\n",
    "            predict(nn, s).ravel(),\n",
    "            predict(nn, b_nom).ravel(),\n",
    "            predict(nn, b_up).ravel(),\n",
    "            predict(nn, b_down).ravel(),\n",
    "        )\n",
    "             \n",
    "        kde_counts = jax.numpy.asarray([\n",
    "            smooth.hist(nn_s, bins, bandwidth) * sig_scale / NMC * LUMI,\n",
    "            smooth.hist(nn_b_nom, bins, bandwidth) * bkg_scale / NMC * LUMI,\n",
    "            smooth.hist(nn_b_up, bins, bandwidth) * bkg_scale / NMC * LUMI,\n",
    "            smooth.hist(nn_b_down, bins, bandwidth) * bkg_scale / NMC * LUMI,\n",
    "        ])\n",
    "        \n",
    "        return kde_counts\n",
    "    \n",
    "    return hist_maker"
   ]
  },
  {
   "cell_type": "code",
   "execution_count": 9,
   "metadata": {},
   "outputs": [],
   "source": [
    "def nn_histosys(histogram_maker):\n",
    "    \n",
    "    def from_spec(yields):\n",
    "        \n",
    "        s, b, bup, bdown = yields\n",
    "        \n",
    "        spec = {\n",
    "            \"channels\": [\n",
    "                {\n",
    "                    \"name\": \"nn\",\n",
    "                    \"samples\": [\n",
    "                        {\n",
    "                            \"name\": \"signal\",\n",
    "                            \"data\": s,\n",
    "                            \"modifiers\": [\n",
    "                                {\"name\": \"mu\", \"type\": \"normfactor\", \"data\": None}\n",
    "                            ],\n",
    "                        },\n",
    "                        {\n",
    "                            \"name\": \"bkg\",\n",
    "                            \"data\": b,\n",
    "                            \"modifiers\": [\n",
    "                                {\n",
    "                                    \"name\": \"nn_histosys\",\n",
    "                                    \"type\": \"histosys\",\n",
    "                                    \"data\": {\n",
    "                                        \"lo_data\": bdown,\n",
    "                                        \"hi_data\": bup,\n",
    "                                    },\n",
    "                                }\n",
    "                            ],\n",
    "                        },      \n",
    "                    ],\n",
    "                },\n",
    "            ],\n",
    "        }\n",
    "\n",
    "        return pyhf.Model(spec)\n",
    "    \n",
    "    def nn_model_maker(nn):\n",
    "        yields = histogram_maker(nn)\n",
    "        m = from_spec(yields)\n",
    "        nompars = m.config.suggested_init()\n",
    "        bonlypars = jax.numpy.asarray([x for x in nompars])\n",
    "        bonlypars = jax.ops.index_update(bonlypars, m.config.poi_index, 0.0)\n",
    "        return m, bonlypars\n",
    "    \n",
    "    return nn_model_maker"
   ]
  },
  {
   "cell_type": "code",
   "execution_count": 10,
   "metadata": {},
   "outputs": [
    {
     "data": {
      "text/plain": [
       "(DeviceArray(0.03419346, dtype=float64),\n",
       " [(DeviceArray([[-6.9085938e-05, -5.1098803e-05,  2.2736178e-05, ...,\n",
       "                 -2.7894343e-05,  5.1321807e-05, -5.2466887e-05],\n",
       "                [ 1.0500407e-04,  1.4730813e-05, -7.8108642e-06, ...,\n",
       "                  1.3047065e-06, -7.9016805e-05, -9.0366993e-06]],            dtype=float32),\n",
       "   DeviceArray([-2.9688137e-05, -2.1501857e-05, -2.1150423e-05, ...,\n",
       "                 2.5295825e-05,  3.3639524e-05, -2.8893661e-05],            dtype=float32)),\n",
       "  (),\n",
       "  (DeviceArray([[-8.5797848e-07,  4.1841538e-08, -2.2322627e-10, ...,\n",
       "                 -7.8334310e-08,  1.3115516e-06,  6.8167884e-07],\n",
       "                [ 1.8693822e-07,  2.2960523e-07,  2.8047147e-09, ...,\n",
       "                  0.0000000e+00,  1.2442236e-07, -3.2955177e-10],\n",
       "                [-4.5844195e-07, -8.2020257e-09, -2.2612119e-10, ...,\n",
       "                  1.8306217e-08, -6.1256475e-07,  4.3896802e-07],\n",
       "                ...,\n",
       "                [-3.9874550e-07, -6.4531451e-07, -8.2569933e-09, ...,\n",
       "                  7.0633654e-08, -1.8914390e-06,  1.0283948e-06],\n",
       "                [ 1.2512957e-06,  2.4339211e-06,  2.2877341e-08, ...,\n",
       "                 -1.8723130e-09,  2.5814709e-06,  7.8412512e-08],\n",
       "                [ 2.9853760e-07,  1.3015938e-07,  1.7166140e-09, ...,\n",
       "                  0.0000000e+00,  6.8161313e-08, -2.8935400e-08]],            dtype=float32),\n",
       "   DeviceArray([ 1.4533935e-05,  5.2438310e-05,  4.0966793e-07, ...,\n",
       "                -8.0296900e-07,  7.0144175e-05,  1.6575312e-05],            dtype=float32)),\n",
       "  (),\n",
       "  (DeviceArray([[-3.4204284e-06],\n",
       "                [-3.2199441e-05],\n",
       "                [-2.1607728e-05],\n",
       "                ...,\n",
       "                [-6.1611827e-06],\n",
       "                [-2.2320836e-04],\n",
       "                [ 1.0162951e-05]], dtype=float32),\n",
       "   DeviceArray([-0.00236866], dtype=float32)),\n",
       "  ()])"
      ]
     },
     "execution_count": 10,
     "metadata": {},
     "output_type": "execute_result"
    }
   ],
   "source": [
    "import jax.experimental.stax as stax\n",
    "\n",
    "# regression net\n",
    "init_random_params, predict = stax.serial(\n",
    "    stax.Dense(1024),\n",
    "    stax.Relu,\n",
    "    stax.Dense(1024),\n",
    "    stax.Relu,\n",
    "    stax.Dense(1),\n",
    "    stax.Sigmoid\n",
    ")\n",
    "\n",
    "# choose hyperparams\n",
    "bins = np.linspace(0,1,4)\n",
    "centers   = bins[:-1]  + np.diff(bins)/2.\n",
    "bandwidth = 0.8 * 1/(len(bins)-1)\n",
    "\n",
    "# compose functions to define workflow\n",
    "data   = blobs()\n",
    "hmaker = hists(data,predict,bins=bins,bandwidth=bandwidth)\n",
    "model  = nn_histosys(hmaker)\n",
    "loss   = smooth.infer.expected_pvalue_upper_limit(model, solver_kwargs=dict(pdf_transform=True))\n",
    "\n",
    "\n",
    "_, network = init_random_params(jax.random.PRNGKey(13), (-1, 2))\n",
    "jax.value_and_grad(loss, argnums=1)(1.0, network)"
   ]
  },
  {
   "cell_type": "code",
   "execution_count": 11,
   "metadata": {},
   "outputs": [],
   "source": [
    "import jax.experimental.optimizers as optimizers\n",
    "import time\n",
    "\n",
    "opt_init, opt_update, opt_params = optimizers.adam(1e-3)\n",
    "\n",
    "def train_network(N):\n",
    "    cls_vals = []\n",
    "    _, network = init_random_params(jax.random.PRNGKey(1), (-1, 2))\n",
    "    state = opt_init(network)\n",
    "    losses = []\n",
    "    \n",
    "    # parameter update function\n",
    "    def update_and_value(i, opt_state, mu):\n",
    "        net = opt_params(opt_state)\n",
    "        value, grad = jax.value_and_grad(loss,argnums=1)(mu, net)\n",
    "        return opt_update(i, grad, state), value, net\n",
    "    \n",
    "    for i in range(N):\n",
    "        start_time = time.time()\n",
    "        state, value, network = update_and_value(i,state,1.0)\n",
    "        epoch_time = time.time() - start_time\n",
    "        losses.append(value)\n",
    "        metrics = {\"loss\": losses}\n",
    "        yield network, metrics, epoch_time"
   ]
  },
  {
   "cell_type": "code",
   "execution_count": 12,
   "metadata": {},
   "outputs": [
    {
     "name": "stdout",
     "output_type": "stream",
     "text": [
      "epoch 0: p_mu = 0.03416, took 2.31s\n",
      "epoch 1: p_mu = 0.01724, took 2.11s\n",
      "epoch 2: p_mu = 0.00762, took 2.12s\n",
      "epoch 3: p_mu = 0.00408, took 2.10s\n",
      "epoch 4: p_mu = 0.00259, took 2.07s\n",
      "epoch 5: p_mu = 0.00187, took 2.08s\n",
      "epoch 6: p_mu = 0.00147, took 2.06s\n",
      "epoch 7: p_mu = 0.00122, took 2.10s\n",
      "epoch 8: p_mu = 0.00105, took 2.06s\n",
      "epoch 9: p_mu = 0.00093, took 2.05s\n"
     ]
    }
   ],
   "source": [
    "\n",
    "maxN = 10 # make me bigger for better results!\n",
    "\n",
    "# Training\n",
    "for i, (network, metrics, epoch_time) in enumerate(train_network(maxN)):\n",
    "    print(f\"epoch {i}:\", f'p_mu = {metrics[\"loss\"][-1]:.5f}, took {epoch_time:.2f}s')"
   ]
  },
  {
   "cell_type": "code",
   "execution_count": null,
   "metadata": {},
   "outputs": [],
   "source": []
  },
  {
   "cell_type": "code",
   "execution_count": null,
   "metadata": {},
   "outputs": [],
   "source": []
  }
 ],
 "metadata": {
  "kernelspec": {
   "display_name": "Python 3",
   "language": "python",
   "name": "python3"
  },
  "language_info": {
   "codemirror_mode": {
    "name": "ipython",
    "version": 3
   },
   "file_extension": ".py",
   "mimetype": "text/x-python",
   "name": "python",
   "nbconvert_exporter": "python",
   "pygments_lexer": "ipython3",
   "version": "3.7.7"
  }
 },
 "nbformat": 4,
 "nbformat_minor": 4
}
