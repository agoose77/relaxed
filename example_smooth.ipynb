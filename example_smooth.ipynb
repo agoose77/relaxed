{
 "cells": [
  {
   "cell_type": "markdown",
   "metadata": {},
   "source": [
    "# Example usage of a (skeleton for a) diffable HEP library"
   ]
  },
  {
   "cell_type": "markdown",
   "metadata": {},
   "source": [
    "install dependencies:"
   ]
  },
  {
   "cell_type": "code",
   "execution_count": 3,
   "metadata": {},
   "outputs": [
    {
     "name": "stdout",
     "output_type": "stream",
     "text": [
      "Requirement already satisfied: jax in ./env/lib/python3.7/site-packages (0.1.67)\n",
      "Requirement already satisfied: jaxlib in ./env/lib/python3.7/site-packages (0.1.47)\n",
      "Requirement already satisfied: numpy in ./env/lib/python3.7/site-packages (1.18.4)\n",
      "Requirement already satisfied: matplotlib in ./env/lib/python3.7/site-packages (3.2.1)\n",
      "Requirement already satisfied: jax-fixedpoint in ./env/lib/python3.7/site-packages (0.0.4)\n",
      "Requirement already satisfied: absl-py in ./env/lib/python3.7/site-packages (from jax) (0.9.0)\n",
      "Requirement already satisfied: opt_einsum in ./env/lib/python3.7/site-packages (from jax) (3.2.1)\n",
      "Requirement already satisfied: scipy in ./env/lib/python3.7/site-packages (from jaxlib) (1.4.1)\n",
      "Requirement already satisfied: python-dateutil>=2.1 in ./env/lib/python3.7/site-packages (from matplotlib) (2.8.1)\n",
      "Requirement already satisfied: cycler>=0.10 in ./env/lib/python3.7/site-packages (from matplotlib) (0.10.0)\n",
      "Requirement already satisfied: kiwisolver>=1.0.1 in ./env/lib/python3.7/site-packages (from matplotlib) (1.2.0)\n",
      "Requirement already satisfied: pyparsing!=2.0.4,!=2.1.2,!=2.1.6,>=2.0.1 in ./env/lib/python3.7/site-packages (from matplotlib) (2.4.7)\n",
      "Requirement already satisfied: hypothesis in ./env/lib/python3.7/site-packages (from jax-fixedpoint) (5.14.0)\n",
      "Requirement already satisfied: six in ./env/lib/python3.7/site-packages (from absl-py->jax) (1.14.0)\n",
      "Requirement already satisfied: sortedcontainers<3.0.0,>=2.1.0 in ./env/lib/python3.7/site-packages (from hypothesis->jax-fixedpoint) (2.1.0)\n",
      "Requirement already satisfied: attrs>=19.2.0 in ./env/lib/python3.7/site-packages (from hypothesis->jax-fixedpoint) (19.3.0)\n",
      "\u001b[33mWARNING: You are using pip version 19.2.3, however version 20.1 is available.\n",
      "You should consider upgrading via the 'pip install --upgrade pip' command.\u001b[0m\n"
     ]
    }
   ],
   "source": [
    "!python -m pip install jax jaxlib numpy matplotlib jax-fixedpoint"
   ]
  },
  {
   "cell_type": "markdown",
   "metadata": {},
   "source": [
    "also install my experimental pyhf fork :)\n"
   ]
  },
  {
   "cell_type": "code",
   "execution_count": 2,
   "metadata": {},
   "outputs": [
    {
     "name": "stdout",
     "output_type": "stream",
     "text": [
      "Collecting git+https://github.com/phinate/pyhf.git@diffable_json\n",
      "  Cloning https://github.com/phinate/pyhf.git (to revision diffable_json) to /private/var/folders/nk/l3bpn5t13lg1qclxj08k_b800000gn/T/pip-req-build-c1atml2f\n",
      "  Running command git clone -q https://github.com/phinate/pyhf.git /private/var/folders/nk/l3bpn5t13lg1qclxj08k_b800000gn/T/pip-req-build-c1atml2f\n",
      "  Running command git checkout -b diffable_json --track origin/diffable_json\n",
      "  Switched to a new branch 'diffable_json'\n",
      "  Branch 'diffable_json' set up to track remote branch 'diffable_json' from 'origin'.\n",
      "  Installing build dependencies ... \u001b[?25ldone\n",
      "\u001b[?25h  Getting requirements to build wheel ... \u001b[?25ldone\n",
      "\u001b[?25h  Installing backend dependencies ... \u001b[?25ldone\n",
      "\u001b[?25h    Preparing wheel metadata ... \u001b[?25ldone\n",
      "\u001b[?25hRequirement already satisfied (use --upgrade to upgrade): pyhf==0.4.1.dev6 from git+https://github.com/phinate/pyhf.git@diffable_json in ./env/lib/python3.7/site-packages\n",
      "Requirement already satisfied: scipy in ./env/lib/python3.7/site-packages (from pyhf==0.4.1.dev6) (1.4.1)\n",
      "Requirement already satisfied: click>=6.0 in ./env/lib/python3.7/site-packages (from pyhf==0.4.1.dev6) (7.1.2)\n",
      "Requirement already satisfied: jsonschema>=v3.0.0a2 in ./env/lib/python3.7/site-packages (from pyhf==0.4.1.dev6) (3.2.0)\n",
      "Requirement already satisfied: pyyaml in ./env/lib/python3.7/site-packages (from pyhf==0.4.1.dev6) (5.3.1)\n",
      "Requirement already satisfied: six in ./env/lib/python3.7/site-packages (from pyhf==0.4.1.dev6) (1.14.0)\n",
      "Requirement already satisfied: jsonpatch in ./env/lib/python3.7/site-packages (from pyhf==0.4.1.dev6) (1.25)\n",
      "Requirement already satisfied: tqdm in ./env/lib/python3.7/site-packages (from pyhf==0.4.1.dev6) (4.46.0)\n",
      "Requirement already satisfied: numpy>=1.13.3 in ./env/lib/python3.7/site-packages (from scipy->pyhf==0.4.1.dev6) (1.18.4)\n",
      "Requirement already satisfied: importlib-metadata; python_version < \"3.8\" in ./env/lib/python3.7/site-packages (from jsonschema>=v3.0.0a2->pyhf==0.4.1.dev6) (1.6.0)\n",
      "Requirement already satisfied: setuptools in ./env/lib/python3.7/site-packages (from jsonschema>=v3.0.0a2->pyhf==0.4.1.dev6) (41.2.0)\n",
      "Requirement already satisfied: pyrsistent>=0.14.0 in ./env/lib/python3.7/site-packages (from jsonschema>=v3.0.0a2->pyhf==0.4.1.dev6) (0.16.0)\n",
      "Requirement already satisfied: attrs>=17.4.0 in ./env/lib/python3.7/site-packages (from jsonschema>=v3.0.0a2->pyhf==0.4.1.dev6) (19.3.0)\n",
      "Requirement already satisfied: jsonpointer>=1.9 in ./env/lib/python3.7/site-packages (from jsonpatch->pyhf==0.4.1.dev6) (2.0)\n",
      "Requirement already satisfied: zipp>=0.5 in ./env/lib/python3.7/site-packages (from importlib-metadata; python_version < \"3.8\"->jsonschema>=v3.0.0a2->pyhf==0.4.1.dev6) (3.1.0)\n",
      "Building wheels for collected packages: pyhf\n",
      "  Building wheel for pyhf (PEP 517) ... \u001b[?25ldone\n",
      "\u001b[?25h  Created wheel for pyhf: filename=pyhf-0.4.1.dev6-cp37-none-any.whl size=96102 sha256=5cf849075cf72e4c144cbd0526fb97b12234dbcd9bf14fb570579bfebd85019e\n",
      "  Stored in directory: /private/var/folders/nk/l3bpn5t13lg1qclxj08k_b800000gn/T/pip-ephem-wheel-cache-afkvmigl/wheels/4f/5f/b2/2c05c1f5c3ea0ef194c443fcb29ab27b05160a9d36c05a50ac\n",
      "Successfully built pyhf\n",
      "\u001b[33mWARNING: You are using pip version 19.2.3, however version 20.1 is available.\n",
      "You should consider upgrading via the 'pip install --upgrade pip' command.\u001b[0m\n"
     ]
    }
   ],
   "source": [
    "!python -m pip install git+https://github.com/phinate/pyhf.git@diffable_json"
   ]
  },
  {
   "cell_type": "code",
   "execution_count": 4,
   "metadata": {},
   "outputs": [],
   "source": [
    "import jax\n",
    "import jax.numpy as jnp\n",
    "\n",
    "import numpy as np\n",
    "\n",
    "import pyhf\n",
    "# use jax backend of pyhf\n",
    "pyhf.set_backend(pyhf.tensor.jax_backend())\n",
    "\n",
    "import smooth\n",
    "import smooth.infer"
   ]
  },
  {
   "cell_type": "markdown",
   "metadata": {},
   "source": [
    "## Implementing Alex's differentiable cut example, using full pyhf:"
   ]
  },
  {
   "cell_type": "code",
   "execution_count": 5,
   "metadata": {},
   "outputs": [],
   "source": [
    "nBg  = 8000\n",
    "nSig = 300\n",
    "\n",
    "background = np.random.normal(40, 10, nBg)\n",
    "signal = np.random.normal(50, 5, nSig)\n",
    "\n",
    "def generate_data():\n",
    "    return signal, background"
   ]
  },
  {
   "cell_type": "code",
   "execution_count": 6,
   "metadata": {
    "jupyter": {
     "source_hidden": true
    }
   },
   "outputs": [
    {
     "data": {
      "image/png": "[encoded data removed]",
      "text/plain": [
       "<Figure size 720x480 with 1 Axes>"
      ]
     },
     "metadata": {
      "needs_background": "light"
     },
     "output_type": "display_data"
    }
   ],
   "source": [
    "import matplotlib.pyplot as plt\n",
    "\n",
    "bins = np.linspace(0, 80, 40)\n",
    "plt.figure(dpi=120)\n",
    "ax = plt.gca()\n",
    "plt.hist([background, signal], bins=bins, stacked=True, label=[\"background\", \"signal\"])\n",
    "ax.set(ylabel='frequency',xlabel='x')\n",
    "plt.legend();"
   ]
  },
  {
   "cell_type": "code",
   "execution_count": 7,
   "metadata": {},
   "outputs": [],
   "source": [
    "def preprocess(data_generator):\n",
    "    \n",
    "    def counts(cut_param):\n",
    "        s, b = data_generator()\n",
    "        \n",
    "        s_counts = smooth.cut(s,'>',cut_param).sum()\n",
    "        b_counts = smooth.cut(b,'>',cut_param).sum()\n",
    "        \n",
    "        return jnp.array([s_counts]), jnp.array([b_counts])\n",
    "    \n",
    "    return counts"
   ]
  },
  {
   "cell_type": "code",
   "execution_count": 8,
   "metadata": {},
   "outputs": [],
   "source": [
    "def simple_histosys(data_with_cuts, uncert):\n",
    "    \"\"\"\n",
    "    Makes a histosys model with up/down yields of +- bkg*(uncert/2).\n",
    "    \"\"\"\n",
    "\n",
    "    def from_spec(yields):\n",
    "\n",
    "        s, b = yields\n",
    "        bup, bdown = b * (1 + (uncert / 2)), b * (1 - (uncert / 2))\n",
    "\n",
    "        spec = {\n",
    "            \"channels\": [\n",
    "                {\n",
    "                    \"name\": \"smoothcut\",\n",
    "                    \"samples\": [\n",
    "                        {\n",
    "                            \"name\": \"signal\",\n",
    "                            \"data\": s,\n",
    "                            \"modifiers\": [\n",
    "                                {\"name\": \"mu\", \"type\": \"normfactor\", \"data\": None}\n",
    "                            ],\n",
    "                        },\n",
    "                        {\n",
    "                            \"name\": \"bkg\",\n",
    "                            \"data\": b,\n",
    "                            \"modifiers\": [\n",
    "                                {\n",
    "                                    \"name\": \"artificial_histosys\",\n",
    "                                    \"type\": \"histosys\",\n",
    "                                    \"data\": {\"lo_data\": bdown, \"hi_data\": bup,},\n",
    "                                }\n",
    "                            ],\n",
    "                        },\n",
    "                    ],\n",
    "                },\n",
    "            ],\n",
    "        }\n",
    "\n",
    "        return pyhf.Model(spec)\n",
    "\n",
    "    def model_maker(cut_pars):\n",
    "        s, b = data_with_cuts(cut_pars)\n",
    "\n",
    "        # make statistical model with pyhf\n",
    "        m = from_spec([s, b])\n",
    "\n",
    "        nompars = m.config.suggested_init()\n",
    "        bonlypars = jnp.asarray([x for x in nompars])\n",
    "        bonlypars = jax.ops.index_update(bonlypars, m.config.poi_index, 0.0)\n",
    "        return m, bonlypars\n",
    "\n",
    "    return model_maker"
   ]
  },
  {
   "cell_type": "code",
   "execution_count": 9,
   "metadata": {},
   "outputs": [
    {
     "data": {
      "text/plain": [
       "(DeviceArray(0.00736518, dtype=float64),\n",
       " DeviceArray(-0.04960811, dtype=float64))"
      ]
     },
     "execution_count": 9,
     "metadata": {},
     "output_type": "execute_result"
    }
   ],
   "source": [
    "data_with_cuts = preprocess(generate_data)\n",
    "model_maker    = simple_histosys(data_with_cuts, uncert=0.05)\n",
    "loss           = smooth.infer.expected_pvalue_upper_limit(model_maker,\n",
    "                                                          solver_kwargs=dict(pdf_transform=True))\n",
    "\n",
    "jax.value_and_grad(loss)(1.,40.)"
   ]
  },
  {
   "cell_type": "markdown",
   "metadata": {},
   "source": [
    "### (Can then do gradient descent etc! I've left that out here.)"
   ]
  },
  {
   "cell_type": "markdown",
   "metadata": {},
   "source": [
    "## Reimplementing neos:"
   ]
  },
  {
   "cell_type": "code",
   "execution_count": 10,
   "metadata": {},
   "outputs": [],
   "source": [
    "def blobs(NMC=500, sig_mean = [-1, 1], b1_mean=[2.5, 2], b_mean=[1, -1], b2_mean=[-2.5, -1.5]):\n",
    "    \n",
    "    def generate_blobs():\n",
    "        bkg_up = np.random.multivariate_normal(b1_mean, [[1, 0], [0, 1]], size=(NMC,))\n",
    "        bkg_down = np.random.multivariate_normal(b2_mean, [[1, 0], [0, 1]], size=(NMC,))\n",
    "        bkg_nom = np.random.multivariate_normal(b_mean, [[1, 0], [0, 1]], size=(NMC,))\n",
    "        sig = np.random.multivariate_normal(sig_mean, [[1, 0], [0, 1]], size=(NMC,))\n",
    "        \n",
    "        return sig, bkg_nom, bkg_up, bkg_down\n",
    "    \n",
    "    return generate_blobs"
   ]
  },
  {
   "cell_type": "code",
   "execution_count": 11,
   "metadata": {},
   "outputs": [],
   "source": [
    "def hists(data_generator, predict, bins, bandwidth, LUMI=10, sig_scale = 2, bkg_scale = 10):\n",
    "    \n",
    "    def hist_maker(nn):\n",
    "        s, b_nom, b_up, b_down = data_generator()\n",
    "        NMC = len(s)\n",
    "        \n",
    "        nn_s, nn_b_nom, nn_b_up, nn_b_down = (\n",
    "            predict(nn, s).ravel(),\n",
    "            predict(nn, b_nom).ravel(),\n",
    "            predict(nn, b_up).ravel(),\n",
    "            predict(nn, b_down).ravel(),\n",
    "        )\n",
    "             \n",
    "        kde_counts = jax.numpy.asarray([\n",
    "            smooth.hist(nn_s, bins, bandwidth) * sig_scale / NMC * LUMI,\n",
    "            smooth.hist(nn_b_nom, bins, bandwidth) * bkg_scale / NMC * LUMI,\n",
    "            smooth.hist(nn_b_up, bins, bandwidth) * bkg_scale / NMC * LUMI,\n",
    "            smooth.hist(nn_b_down, bins, bandwidth) * bkg_scale / NMC * LUMI,\n",
    "        ])\n",
    "        \n",
    "        return kde_counts\n",
    "    \n",
    "    return hist_maker"
   ]
  },
  {
   "cell_type": "code",
   "execution_count": 12,
   "metadata": {},
   "outputs": [],
   "source": [
    "def nn_histosys(histogram_maker):\n",
    "    \n",
    "    def from_spec(yields):\n",
    "        \n",
    "        s, b, bup, bdown = yields\n",
    "        \n",
    "        spec = {\n",
    "            \"channels\": [\n",
    "                {\n",
    "                    \"name\": \"nn\",\n",
    "                    \"samples\": [\n",
    "                        {\n",
    "                            \"name\": \"signal\",\n",
    "                            \"data\": s,\n",
    "                            \"modifiers\": [\n",
    "                                {\"name\": \"mu\", \"type\": \"normfactor\", \"data\": None}\n",
    "                            ],\n",
    "                        },\n",
    "                        {\n",
    "                            \"name\": \"bkg\",\n",
    "                            \"data\": b,\n",
    "                            \"modifiers\": [\n",
    "                                {\n",
    "                                    \"name\": \"nn_histosys\",\n",
    "                                    \"type\": \"histosys\",\n",
    "                                    \"data\": {\n",
    "                                        \"lo_data\": bdown,\n",
    "                                        \"hi_data\": bup,\n",
    "                                    },\n",
    "                                }\n",
    "                            ],\n",
    "                        },      \n",
    "                    ],\n",
    "                },\n",
    "            ],\n",
    "        }\n",
    "\n",
    "        return pyhf.Model(spec)\n",
    "    \n",
    "    def nn_model_maker(nn):\n",
    "        yields = histogram_maker(nn)\n",
    "        m = from_spec(yields)\n",
    "        nompars = m.config.suggested_init()\n",
    "        bonlypars = jax.numpy.asarray([x for x in nompars])\n",
    "        bonlypars = jax.ops.index_update(bonlypars, m.config.poi_index, 0.0)\n",
    "        return m, bonlypars\n",
    "    \n",
    "    return nn_model_maker"
   ]
  },
  {
   "cell_type": "code",
   "execution_count": 13,
   "metadata": {},
   "outputs": [
    {
     "data": {
      "text/plain": [
       "(DeviceArray(0.0341801, dtype=float64),\n",
       " [(DeviceArray([[-8.3691615e-05, -5.5889886e-05,  2.6962867e-05, ...,\n",
       "                 -3.3131426e-05,  6.7714827e-05, -6.5879067e-05],\n",
       "                [ 1.1975956e-04,  1.7069116e-05, -1.2967693e-05, ...,\n",
       "                  4.9430864e-06, -1.0217432e-04, -2.3854705e-06]],            dtype=float32),\n",
       "   DeviceArray([-4.3151660e-05, -2.4145664e-05, -2.2520955e-05, ...,\n",
       "                 2.4547691e-05,  4.3474516e-05, -2.7508009e-05],            dtype=float32)),\n",
       "  (),\n",
       "  (DeviceArray([[-9.38912763e-07,  7.55103429e-08,  3.63126251e-10, ...,\n",
       "                 -6.85434429e-08,  1.24269695e-06,  8.70465442e-07],\n",
       "                [ 2.03044962e-07,  2.53253631e-07,  3.06817616e-09, ...,\n",
       "                  0.00000000e+00,  1.31340443e-07,  3.23801957e-10],\n",
       "                [-5.11126927e-07, -9.93169369e-09, -1.08800274e-10, ...,\n",
       "                  1.89300664e-08, -8.43900636e-07,  5.97544272e-07],\n",
       "                ...,\n",
       "                [-4.80836377e-07, -1.28828378e-06, -1.63284746e-08, ...,\n",
       "                  7.34097014e-08, -2.97508882e-06,  1.90375749e-06],\n",
       "                [ 1.29809166e-06,  2.54637075e-06,  2.43334028e-08, ...,\n",
       "                 -4.78977258e-09,  3.07968048e-06,  1.53592282e-07],\n",
       "                [ 3.31216796e-07,  8.23837922e-08,  1.14181975e-09, ...,\n",
       "                  0.00000000e+00,  7.70297532e-08,  1.90174383e-08]],            dtype=float32),\n",
       "   DeviceArray([ 1.4553729e-05,  5.3761851e-05,  4.2426052e-07, ...,\n",
       "                -1.0126737e-06,  8.3545703e-05,  2.0851523e-05],            dtype=float32)),\n",
       "  (),\n",
       "  (DeviceArray([[-3.2328714e-06],\n",
       "                [-3.3926884e-05],\n",
       "                [-2.1500249e-05],\n",
       "                ...,\n",
       "                [-6.1812516e-06],\n",
       "                [-2.5597826e-04],\n",
       "                [ 1.7869383e-05]], dtype=float32),\n",
       "   DeviceArray([-0.00264009], dtype=float32)),\n",
       "  ()])"
      ]
     },
     "execution_count": 13,
     "metadata": {},
     "output_type": "execute_result"
    }
   ],
   "source": [
    "import jax.experimental.stax as stax\n",
    "\n",
    "# regression net\n",
    "init_random_params, predict = stax.serial(\n",
    "    stax.Dense(1024),\n",
    "    stax.Relu,\n",
    "    stax.Dense(1024),\n",
    "    stax.Relu,\n",
    "    stax.Dense(1),\n",
    "    stax.Sigmoid\n",
    ")\n",
    "\n",
    "# choose hyperparams\n",
    "bins = np.linspace(0,1,4)\n",
    "centers   = bins[:-1]  + np.diff(bins)/2.\n",
    "bandwidth = 0.8 * 1/(len(bins)-1)\n",
    "\n",
    "# compose functions to define workflow\n",
    "data   = blobs()\n",
    "hmaker = hists(data,predict,bins=bins,bandwidth=bandwidth)\n",
    "model  = nn_histosys(hmaker)\n",
    "loss   = smooth.infer.expected_pvalue_upper_limit(model, solver_kwargs=dict(pdf_transform=True))\n",
    "\n",
    "\n",
    "_, network = init_random_params(jax.random.PRNGKey(13), (-1, 2))\n",
    "jax.value_and_grad(loss, argnums=1)(1.0, network)"
   ]
  },
  {
   "cell_type": "code",
   "execution_count": 14,
   "metadata": {},
   "outputs": [],
   "source": [
    "import jax.experimental.optimizers as optimizers\n",
    "import time\n",
    "\n",
    "opt_init, opt_update, opt_params = optimizers.adam(1e-3)\n",
    "\n",
    "def train_network(N):\n",
    "    cls_vals = []\n",
    "    _, network = init_random_params(jax.random.PRNGKey(1), (-1, 2))\n",
    "    state = opt_init(network)\n",
    "    losses = []\n",
    "    \n",
    "    # parameter update function\n",
    "    def update_and_value(i, opt_state, mu):\n",
    "        net = opt_params(opt_state)\n",
    "        value, grad = jax.value_and_grad(loss,argnums=1)(mu, net)\n",
    "        return opt_update(i, grad, state), value, net\n",
    "    \n",
    "    for i in range(N):\n",
    "        start_time = time.time()\n",
    "        state, value, network = update_and_value(i,state,1.0)\n",
    "        epoch_time = time.time() - start_time\n",
    "        losses.append(value)\n",
    "        metrics = {\"loss\": losses}\n",
    "        yield network, metrics, epoch_time"
   ]
  },
  {
   "cell_type": "code",
   "execution_count": 15,
   "metadata": {},
   "outputs": [
    {
     "name": "stdout",
     "output_type": "stream",
     "text": [
      "epoch 0: p_mu = 0.03418, took 2.39s\n",
      "epoch 1: p_mu = 0.01668, took 2.22s\n",
      "epoch 2: p_mu = 0.00747, took 2.16s\n",
      "epoch 3: p_mu = 0.00404, took 2.17s\n",
      "epoch 4: p_mu = 0.00253, took 2.18s\n",
      "epoch 5: p_mu = 0.00179, took 2.15s\n",
      "epoch 6: p_mu = 0.00138, took 2.13s\n",
      "epoch 7: p_mu = 0.00129, took 2.11s\n",
      "epoch 8: p_mu = 0.00102, took 2.15s\n",
      "epoch 9: p_mu = 0.00089, took 2.13s\n"
     ]
    }
   ],
   "source": [
    "\n",
    "maxN = 10 # make me bigger for better results!\n",
    "\n",
    "# Training\n",
    "for i, (network, metrics, epoch_time) in enumerate(train_network(maxN)):\n",
    "    print(f\"epoch {i}:\", f'p_mu = {metrics[\"loss\"][-1]:.5f}, took {epoch_time:.2f}s')"
   ]
  },
  {
   "cell_type": "code",
   "execution_count": null,
   "metadata": {},
   "outputs": [],
   "source": []
  },
  {
   "cell_type": "code",
   "execution_count": null,
   "metadata": {},
   "outputs": [],
   "source": []
  }
 ],
 "metadata": {
  "kernelspec": {
   "display_name": "Python 3",
   "language": "python",
   "name": "python3"
  },
  "language_info": {
   "codemirror_mode": {
    "name": "ipython",
    "version": 3
   },
   "file_extension": ".py",
   "mimetype": "text/x-python",
   "name": "python",
   "nbconvert_exporter": "python",
   "pygments_lexer": "ipython3",
   "version": "3.7.7"
  }
 },
 "nbformat": 4,
 "nbformat_minor": 4
}
