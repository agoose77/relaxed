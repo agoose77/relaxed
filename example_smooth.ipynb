{
 "cells": [
  {
   "cell_type": "markdown",
   "metadata": {},
   "source": [
    "# Example usage of a (skeleton for a) diffable HEP library"
   ]
  },
  {
   "cell_type": "code",
   "execution_count": 2,
   "metadata": {},
   "outputs": [],
   "source": [
    "import jax\n",
    "import jax.numpy as jnp\n",
    "\n",
    "import numpy as np\n",
    "\n",
    "import pyhf\n",
    "# use jax backend of pyhf\n",
    "pyhf.set_backend(pyhf.tensor.jax_backend())\n",
    "\n",
    "import smooth\n",
    "import smooth.infer"
   ]
  },
  {
   "cell_type": "markdown",
   "metadata": {},
   "source": [
    "## Implementing Alex's differentiable cut example, using full pyhf:"
   ]
  },
  {
   "cell_type": "code",
   "execution_count": 3,
   "metadata": {},
   "outputs": [],
   "source": [
    "nBg  = 8000\n",
    "nSig = 300\n",
    "\n",
    "background = np.random.normal(40, 10, nBg)\n",
    "signal = np.random.normal(50, 5, nSig)\n",
    "\n",
    "def generate_data():\n",
    "    return signal, background"
   ]
  },
  {
   "cell_type": "code",
   "execution_count": 4,
   "metadata": {
    "jupyter": {
     "source_hidden": true
    }
   },
   "outputs": [
    {
     "data": {
      "image/png": "[encoded data removed]",
      "text/plain": [
       "<Figure size 720x480 with 1 Axes>"
      ]
     },
     "metadata": {
      "needs_background": "light"
     },
     "output_type": "display_data"
    }
   ],
   "source": [
    "import matplotlib.pyplot as plt\n",
    "\n",
    "bins = np.linspace(0, 80, 40)\n",
    "plt.figure(dpi=120)\n",
    "ax = plt.gca()\n",
    "plt.hist([background, signal], bins=bins, stacked=True, label=[\"background\", \"signal\"])\n",
    "ax.set(ylabel='frequency',xlabel='x')\n",
    "plt.legend();"
   ]
  },
  {
   "cell_type": "code",
   "execution_count": 5,
   "metadata": {},
   "outputs": [],
   "source": [
    "def preprocess(data_generator):\n",
    "    \n",
    "    def counts(cut_param):\n",
    "        s, b = data_generator()\n",
    "        \n",
    "        s_counts = smooth.cut(s,'>',cut_param).sum()\n",
    "        b_counts = smooth.cut(b,'>',cut_param).sum()\n",
    "        \n",
    "        return jnp.array([s_counts]), jnp.array([b_counts])\n",
    "    \n",
    "    return counts"
   ]
  },
  {
   "cell_type": "code",
   "execution_count": 6,
   "metadata": {},
   "outputs": [],
   "source": [
    "def simple_histosys(data_with_cuts, uncert):\n",
    "    \"\"\"\n",
    "    Makes a histosys model with up/down yields of +- bkg*(uncert/2).\n",
    "    \"\"\"\n",
    "\n",
    "    def from_spec(yields):\n",
    "\n",
    "        s, b = yields\n",
    "        bup, bdown = b * (1 + (uncert / 2)), b * (1 - (uncert / 2))\n",
    "\n",
    "        spec = {\n",
    "            \"channels\": [\n",
    "                {\n",
    "                    \"name\": \"smoothcut\",\n",
    "                    \"samples\": [\n",
    "                        {\n",
    "                            \"name\": \"signal\",\n",
    "                            \"data\": s,\n",
    "                            \"modifiers\": [\n",
    "                                {\"name\": \"mu\", \"type\": \"normfactor\", \"data\": None}\n",
    "                            ],\n",
    "                        },\n",
    "                        {\n",
    "                            \"name\": \"bkg\",\n",
    "                            \"data\": b,\n",
    "                            \"modifiers\": [\n",
    "                                {\n",
    "                                    \"name\": \"artificial_histosys\",\n",
    "                                    \"type\": \"histosys\",\n",
    "                                    \"data\": {\"lo_data\": bdown, \"hi_data\": bup,},\n",
    "                                }\n",
    "                            ],\n",
    "                        },\n",
    "                    ],\n",
    "                },\n",
    "            ],\n",
    "        }\n",
    "\n",
    "        return pyhf.Model(spec)\n",
    "\n",
    "    def model_maker(cut_pars):\n",
    "        s, b = data_with_cuts(cut_pars)\n",
    "\n",
    "        # make statistical model with pyhf\n",
    "        m = from_spec([s, b])\n",
    "\n",
    "        nompars = m.config.suggested_init()\n",
    "        bonlypars = jnp.asarray([x for x in nompars])\n",
    "        bonlypars = jax.ops.index_update(bonlypars, m.config.poi_index, 0.0)\n",
    "        return m, bonlypars\n",
    "\n",
    "    return model_maker"
   ]
  },
  {
   "cell_type": "code",
   "execution_count": 7,
   "metadata": {},
   "outputs": [
    {
     "data": {
      "text/plain": [
       "(DeviceArray(0.0068958, dtype=float64),\n",
       " DeviceArray(-0.04726333, dtype=float64))"
      ]
     },
     "execution_count": 7,
     "metadata": {},
     "output_type": "execute_result"
    }
   ],
   "source": [
    "data_with_cuts = preprocess(generate_data)\n",
    "model_maker    = simple_histosys(data_with_cuts, uncert=0.05)\n",
    "loss           = smooth.infer.expected_pvalue_upper_limit(model_maker,\n",
    "                                                          solver_kwargs=dict(pdf_transform=True))\n",
    "\n",
    "jax.value_and_grad(loss)(1.,40.)"
   ]
  },
  {
   "cell_type": "markdown",
   "metadata": {},
   "source": [
    "### (Can then do gradient descent etc! I've left that out here.)"
   ]
  },
  {
   "cell_type": "markdown",
   "metadata": {},
   "source": [
    "## Reimplementing neos:"
   ]
  },
  {
   "cell_type": "code",
   "execution_count": 8,
   "metadata": {},
   "outputs": [],
   "source": [
    "def blobs(NMC=500, sig_mean = [-1, 1], b1_mean=[2.5, 2], b_mean=[1, -1], b2_mean=[-2.5, -1.5]):\n",
    "    \n",
    "    def generate_blobs():\n",
    "        bkg_up = np.random.multivariate_normal(b1_mean, [[1, 0], [0, 1]], size=(NMC,))\n",
    "        bkg_down = np.random.multivariate_normal(b2_mean, [[1, 0], [0, 1]], size=(NMC,))\n",
    "        bkg_nom = np.random.multivariate_normal(b_mean, [[1, 0], [0, 1]], size=(NMC,))\n",
    "        sig = np.random.multivariate_normal(sig_mean, [[1, 0], [0, 1]], size=(NMC,))\n",
    "        \n",
    "        return sig, bkg_nom, bkg_up, bkg_down\n",
    "    \n",
    "    return generate_blobs"
   ]
  },
  {
   "cell_type": "code",
   "execution_count": 9,
   "metadata": {},
   "outputs": [],
   "source": [
    "def hists(data_generator, predict, bins, bandwidth, LUMI=10, sig_scale = 2, bkg_scale = 10):\n",
    "    \n",
    "    def hist_maker(nn):\n",
    "        s, b_nom, b_up, b_down = data_generator()\n",
    "        NMC = len(s)\n",
    "        \n",
    "        nn_s, nn_b_nom, nn_b_up, nn_b_down = (\n",
    "            predict(nn, s).ravel(),\n",
    "            predict(nn, b_nom).ravel(),\n",
    "            predict(nn, b_up).ravel(),\n",
    "            predict(nn, b_down).ravel(),\n",
    "        )\n",
    "             \n",
    "        kde_counts = jax.numpy.asarray([\n",
    "            smooth.hist(nn_s, bins, bandwidth) * sig_scale / NMC * LUMI,\n",
    "            smooth.hist(nn_b_nom, bins, bandwidth) * bkg_scale / NMC * LUMI,\n",
    "            smooth.hist(nn_b_up, bins, bandwidth) * bkg_scale / NMC * LUMI,\n",
    "            smooth.hist(nn_b_down, bins, bandwidth) * bkg_scale / NMC * LUMI,\n",
    "        ])\n",
    "        \n",
    "        return kde_counts\n",
    "    \n",
    "    return hist_maker"
   ]
  },
  {
   "cell_type": "code",
   "execution_count": 10,
   "metadata": {},
   "outputs": [],
   "source": [
    "def nn_histosys(histogram_maker):\n",
    "    \n",
    "    def from_spec(yields):\n",
    "        \n",
    "        s, b, bup, bdown = yields\n",
    "        \n",
    "        spec = {\n",
    "            \"channels\": [\n",
    "                {\n",
    "                    \"name\": \"nn\",\n",
    "                    \"samples\": [\n",
    "                        {\n",
    "                            \"name\": \"signal\",\n",
    "                            \"data\": s,\n",
    "                            \"modifiers\": [\n",
    "                                {\"name\": \"mu\", \"type\": \"normfactor\", \"data\": None}\n",
    "                            ],\n",
    "                        },\n",
    "                        {\n",
    "                            \"name\": \"bkg\",\n",
    "                            \"data\": b,\n",
    "                            \"modifiers\": [\n",
    "                                {\n",
    "                                    \"name\": \"nn_histosys\",\n",
    "                                    \"type\": \"histosys\",\n",
    "                                    \"data\": {\n",
    "                                        \"lo_data\": bdown,\n",
    "                                        \"hi_data\": bup,\n",
    "                                    },\n",
    "                                }\n",
    "                            ],\n",
    "                        },      \n",
    "                    ],\n",
    "                },\n",
    "            ],\n",
    "        }\n",
    "\n",
    "        return pyhf.Model(spec)\n",
    "    \n",
    "    def nn_model_maker(nn):\n",
    "        yields = histogram_maker(nn)\n",
    "        m = from_spec(yields)\n",
    "        nompars = m.config.suggested_init()\n",
    "        bonlypars = jax.numpy.asarray([x for x in nompars])\n",
    "        bonlypars = jax.ops.index_update(bonlypars, m.config.poi_index, 0.0)\n",
    "        return m, bonlypars\n",
    "    \n",
    "    return nn_model_maker"
   ]
  },
  {
   "cell_type": "code",
   "execution_count": 11,
   "metadata": {},
   "outputs": [
    {
     "data": {
      "text/plain": [
       "(DeviceArray(0.03418747, dtype=float64),\n",
       " [(DeviceArray([[-6.4622873e-05, -5.2814426e-05,  1.9162399e-05, ...,\n",
       "                 -2.6265348e-05,  5.9893882e-05, -4.1098698e-05],\n",
       "                [ 1.0831091e-04,  1.7545686e-05, -8.0756972e-06, ...,\n",
       "                  4.9211412e-06, -8.9975663e-05, -8.1753815e-06]],            dtype=float32),\n",
       "   DeviceArray([-3.9383969e-05, -2.2616345e-05, -1.9260973e-05, ...,\n",
       "                 2.3206361e-05,  3.7671431e-05, -2.1765823e-05],            dtype=float32)),\n",
       "  (),\n",
       "  (DeviceArray([[-6.9934777e-07,  5.7010297e-08,  3.8109571e-10, ...,\n",
       "                 -1.0024851e-07,  1.5208009e-06,  6.4182098e-07],\n",
       "                [ 1.8532944e-07,  2.2956806e-07,  2.6408258e-09, ...,\n",
       "                  0.0000000e+00,  1.3109189e-07,  3.0246827e-10],\n",
       "                [-3.6879607e-07, -7.7659470e-09, -2.6789959e-11, ...,\n",
       "                  5.3488378e-09, -4.9338769e-07,  4.1606350e-07],\n",
       "                ...,\n",
       "                [-2.7106398e-07, -1.2677656e-06, -1.5544863e-08, ...,\n",
       "                  6.2972013e-08, -1.8797004e-06,  1.3789468e-06],\n",
       "                [ 1.1002703e-06,  2.3838379e-06,  2.0671269e-08, ...,\n",
       "                 -5.1347735e-09,  2.9620478e-06,  1.4888519e-07],\n",
       "                [ 3.1493050e-07,  4.0618005e-08,  5.9692251e-10, ...,\n",
       "                  0.0000000e+00,  9.9198189e-08,  1.6643789e-08]],            dtype=float32),\n",
       "   DeviceArray([ 1.2746895e-05,  4.9726506e-05,  3.6562938e-07, ...,\n",
       "                -1.3683066e-06,  8.2593600e-05,  1.8802810e-05],            dtype=float32)),\n",
       "  (),\n",
       "  (DeviceArray([[-3.2975445e-06],\n",
       "                [-3.0202049e-05],\n",
       "                [-1.7550985e-05],\n",
       "                ...,\n",
       "                [-7.9780184e-06],\n",
       "                [-2.4000838e-04],\n",
       "                [ 1.1995177e-05]], dtype=float32),\n",
       "   DeviceArray([-0.00253203], dtype=float32)),\n",
       "  ()])"
      ]
     },
     "execution_count": 11,
     "metadata": {},
     "output_type": "execute_result"
    }
   ],
   "source": [
    "import jax.experimental.stax as stax\n",
    "\n",
    "# regression net\n",
    "init_random_params, predict = stax.serial(\n",
    "    stax.Dense(1024),\n",
    "    stax.Relu,\n",
    "    stax.Dense(1024),\n",
    "    stax.Relu,\n",
    "    stax.Dense(1),\n",
    "    stax.Sigmoid\n",
    ")\n",
    "\n",
    "# choose hyperparams\n",
    "bins = np.linspace(0,1,4)\n",
    "centers   = bins[:-1]  + np.diff(bins)/2.\n",
    "bandwidth = 0.8 * 1/(len(bins)-1)\n",
    "\n",
    "# compose functions to define workflow\n",
    "data   = blobs()\n",
    "hmaker = hists(data,predict,bins=bins,bandwidth=bandwidth)\n",
    "model  = nn_histosys(hmaker)\n",
    "loss   = smooth.infer.expected_pvalue_upper_limit(model, solver_kwargs=dict(pdf_transform=True))\n",
    "\n",
    "\n",
    "_, network = init_random_params(jax.random.PRNGKey(13), (-1, 2))\n",
    "jax.value_and_grad(loss, argnums=1)(1.0, network)"
   ]
  },
  {
   "cell_type": "code",
   "execution_count": 12,
   "metadata": {},
   "outputs": [],
   "source": [
    "import jax.experimental.optimizers as optimizers\n",
    "import time\n",
    "\n",
    "opt_init, opt_update, opt_params = optimizers.adam(1e-3)\n",
    "\n",
    "def train_network(N):\n",
    "    cls_vals = []\n",
    "    _, network = init_random_params(jax.random.PRNGKey(1), (-1, 2))\n",
    "    state = opt_init(network)\n",
    "    losses = []\n",
    "    \n",
    "    # parameter update function\n",
    "    def update_and_value(i, opt_state, mu):\n",
    "        net = opt_params(opt_state)\n",
    "        value, grad = jax.value_and_grad(loss,argnums=1)(mu, net)\n",
    "        return opt_update(i, grad, state), value, net\n",
    "    \n",
    "    for i in range(N):\n",
    "        start_time = time.time()\n",
    "        state, value, network = update_and_value(i,state,1.0)\n",
    "        epoch_time = time.time() - start_time\n",
    "        losses.append(value)\n",
    "        metrics = {\"loss\": losses}\n",
    "        yield network, metrics, epoch_time"
   ]
  },
  {
   "cell_type": "code",
   "execution_count": 13,
   "metadata": {},
   "outputs": [
    {
     "name": "stdout",
     "output_type": "stream",
     "text": [
      "epoch 0: p_mu = 0.03419, took 1.74s\n",
      "epoch 1: p_mu = 0.01812, took 2.05s\n",
      "epoch 2: p_mu = 0.00872, took 2.08s\n",
      "epoch 3: p_mu = 0.00480, took 2.05s\n",
      "epoch 4: p_mu = 0.00299, took 2.10s\n",
      "epoch 5: p_mu = 0.00207, took 2.09s\n",
      "epoch 6: p_mu = 0.00156, took 2.11s\n",
      "epoch 7: p_mu = 0.00131, took 2.07s\n",
      "epoch 8: p_mu = 0.00119, took 2.04s\n",
      "epoch 9: p_mu = 0.00097, took 2.13s\n"
     ]
    }
   ],
   "source": [
    "\n",
    "maxN = 10 # make me bigger for better results!\n",
    "\n",
    "# Training\n",
    "for i, (network, metrics, epoch_time) in enumerate(train_network(maxN)):\n",
    "    print(f\"epoch {i}:\", f'p_mu = {metrics[\"loss\"][-1]:.5f}, took {epoch_time:.2f}s')"
   ]
  },
  {
   "cell_type": "code",
   "execution_count": null,
   "metadata": {},
   "outputs": [],
   "source": []
  },
  {
   "cell_type": "code",
   "execution_count": null,
   "metadata": {},
   "outputs": [],
   "source": []
  }
 ],
 "metadata": {
  "kernelspec": {
   "display_name": "Python 3",
   "language": "python",
   "name": "python3"
  }
 },
 "nbformat": 4,
 "nbformat_minor": 4
}
